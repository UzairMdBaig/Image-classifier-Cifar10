{
 "cells": [
  {
   "cell_type": "code",
   "execution_count": 3,
   "metadata": {
    "executionInfo": {
     "elapsed": 417,
     "status": "ok",
     "timestamp": 1757331636258,
     "user": {
      "displayName": "Uzair Baig",
      "userId": "06575571767751291123"
     },
     "user_tz": -330
    },
    "id": "kvT1vyhRMpN5"
   },
   "outputs": [],
   "source": [
    "import torchvision\n",
    "import torch"
   ]
  },
  {
   "cell_type": "code",
   "execution_count": 5,
   "metadata": {
    "colab": {
     "base_uri": "https://localhost:8080/"
    },
    "executionInfo": {
     "elapsed": 11885,
     "status": "ok",
     "timestamp": 1757331668110,
     "user": {
      "displayName": "Uzair Baig",
      "userId": "06575571767751291123"
     },
     "user_tz": -330
    },
    "id": "_svKAvnCINyX",
    "outputId": "4afd9ca9-4c2b-49b4-8ab6-53217d7efa0d"
   },
   "outputs": [
    {
     "name": "stdout",
     "output_type": "stream",
     "text": [
      "Collecting onnxruntime\n",
      "  Downloading onnxruntime-1.22.1-cp312-cp312-manylinux_2_27_x86_64.manylinux_2_28_x86_64.whl.metadata (4.9 kB)\n",
      "Collecting coloredlogs (from onnxruntime)\n",
      "  Downloading coloredlogs-15.0.1-py2.py3-none-any.whl.metadata (12 kB)\n",
      "Requirement already satisfied: flatbuffers in /usr/local/lib/python3.12/dist-packages (from onnxruntime) (25.2.10)\n",
      "Requirement already satisfied: numpy>=1.21.6 in /usr/local/lib/python3.12/dist-packages (from onnxruntime) (2.0.2)\n",
      "Requirement already satisfied: packaging in /usr/local/lib/python3.12/dist-packages (from onnxruntime) (25.0)\n",
      "Requirement already satisfied: protobuf in /usr/local/lib/python3.12/dist-packages (from onnxruntime) (5.29.5)\n",
      "Requirement already satisfied: sympy in /usr/local/lib/python3.12/dist-packages (from onnxruntime) (1.13.3)\n",
      "Collecting humanfriendly>=9.1 (from coloredlogs->onnxruntime)\n",
      "  Downloading humanfriendly-10.0-py2.py3-none-any.whl.metadata (9.2 kB)\n",
      "Requirement already satisfied: mpmath<1.4,>=1.1.0 in /usr/local/lib/python3.12/dist-packages (from sympy->onnxruntime) (1.3.0)\n",
      "Downloading onnxruntime-1.22.1-cp312-cp312-manylinux_2_27_x86_64.manylinux_2_28_x86_64.whl (16.5 MB)\n",
      "\u001b[2K   \u001b[90m━━━━━━━━━━━━━━━━━━━━━━━━━━━━━━━━━━━━━━━━\u001b[0m \u001b[32m16.5/16.5 MB\u001b[0m \u001b[31m99.0 MB/s\u001b[0m eta \u001b[36m0:00:00\u001b[0m\n",
      "\u001b[?25hDownloading coloredlogs-15.0.1-py2.py3-none-any.whl (46 kB)\n",
      "\u001b[2K   \u001b[90m━━━━━━━━━━━━━━━━━━━━━━━━━━━━━━━━━━━━━━━━\u001b[0m \u001b[32m46.0/46.0 kB\u001b[0m \u001b[31m3.2 MB/s\u001b[0m eta \u001b[36m0:00:00\u001b[0m\n",
      "\u001b[?25hDownloading humanfriendly-10.0-py2.py3-none-any.whl (86 kB)\n",
      "\u001b[2K   \u001b[90m━━━━━━━━━━━━━━━━━━━━━━━━━━━━━━━━━━━━━━━━\u001b[0m \u001b[32m86.8/86.8 kB\u001b[0m \u001b[31m6.9 MB/s\u001b[0m eta \u001b[36m0:00:00\u001b[0m\n",
      "\u001b[?25hInstalling collected packages: humanfriendly, coloredlogs, onnxruntime\n",
      "Successfully installed coloredlogs-15.0.1 humanfriendly-10.0 onnxruntime-1.22.1\n"
     ]
    }
   ],
   "source": [
    "!pip install onnxruntime"
   ]
  },
  {
   "cell_type": "code",
   "execution_count": 33,
   "metadata": {
    "executionInfo": {
     "elapsed": 52,
     "status": "ok",
     "timestamp": 1757334898596,
     "user": {
      "displayName": "Uzair Baig",
      "userId": "06575571767751291123"
     },
     "user_tz": -330
    },
    "id": "ya1L8BbhM-BG"
   },
   "outputs": [],
   "source": [
    "from torchvision.datasets import CIFAR10\n",
    "from torchvision.models import efficientnet_b1\n",
    "from torchvision import transforms\n",
    "from torch.utils.data import DataLoader\n",
    "from torch.optim import AdamW\n",
    "from torch.nn import CrossEntropyLoss\n",
    "from torch.optim.lr_scheduler import CosineAnnealingLR\n",
    "import onnxruntime as ort\n",
    "import numpy as np\n",
    "import matplotlib.pyplot as plt\n",
    "from sklearn.metrics import precision_score, recall_score, confusion_matrix, ConfusionMatrixDisplay\n"
   ]
  },
  {
   "cell_type": "code",
   "execution_count": 9,
   "metadata": {
    "executionInfo": {
     "elapsed": 2,
     "status": "ok",
     "timestamp": 1757332208144,
     "user": {
      "displayName": "Uzair Baig",
      "userId": "06575571767751291123"
     },
     "user_tz": -330
    },
    "id": "nRdpGwlfNLkz"
   },
   "outputs": [],
   "source": [
    "mean=[0.49139968, 0.48215827 ,0.44653124]\n",
    "std=[0.24703233, 0.24348505, 0.26158768]"
   ]
  },
  {
   "cell_type": "code",
   "execution_count": 10,
   "metadata": {
    "executionInfo": {
     "elapsed": 3,
     "status": "ok",
     "timestamp": 1757332209598,
     "user": {
      "displayName": "Uzair Baig",
      "userId": "06575571767751291123"
     },
     "user_tz": -330
    },
    "id": "cwEyrz8UWoMO"
   },
   "outputs": [],
   "source": [
    "cifar_transforms = transforms.Compose([\n",
    "    transforms.Resize((224, 224)),\n",
    "    transforms.ToTensor(),\n",
    "    transforms.Normalize(mean, std)\n",
    "])"
   ]
  },
  {
   "cell_type": "code",
   "execution_count": 39,
   "metadata": {
    "executionInfo": {
     "elapsed": 1983,
     "status": "ok",
     "timestamp": 1757335544708,
     "user": {
      "displayName": "Uzair Baig",
      "userId": "06575571767751291123"
     },
     "user_tz": -330
    },
    "id": "dhKHar4MYtM_"
   },
   "outputs": [],
   "source": [
    "batch_size = 32\n",
    "\n",
    "trainset = CIFAR10(root='./data', train=True, download=True, transform=cifar_transforms)\n",
    "trainloader = DataLoader(trainset, batch_size=batch_size, shuffle=True)\n",
    "\n",
    "testset = torchvision.datasets.CIFAR10(root='./data', train=False, download=True, transform=cifar_transforms)\n",
    "val_size = len(testset) // 2\n",
    "test_size = len(testset) - val_size\n",
    "valset, testset = torch.utils.data.random_split(testset, [val_size, test_size])\n",
    "testloader = DataLoader(testset, batch_size=batch_size, shuffle=False)\n",
    "\n",
    "valloader = DataLoader(valset, batch_size=batch_size, shuffle=False)\n",
    "\n",
    "classes = ('plane', 'car', 'bird', 'cat','deer', 'dog', 'frog', 'horse', 'ship', 'truck')"
   ]
  },
  {
   "cell_type": "code",
   "execution_count": null,
   "metadata": {
    "id": "nd9sbcNGzwnJ"
   },
   "outputs": [],
   "source": [
    "model = efficientnet_b1()"
   ]
  },
  {
   "cell_type": "code",
   "execution_count": null,
   "metadata": {
    "id": "Js_zsnywBezW"
   },
   "outputs": [],
   "source": [
    "epochs = 45\n",
    "optimizer = AdamW(params=model.parameters(), lr=0.001, weight_decay=0.0025)\n",
    "scheduler = CosineAnnealingLR(optimizer, T_max=40, eta_min=1e-5)\n",
    "\n",
    "loss_fn = CrossEntropyLoss()\n",
    "\n",
    "device = torch.device(\"cuda\" if torch.cuda.is_available() else \"cpu\")\n",
    "model = model.to(device)\n",
    "\n",
    "def training_step(model, trainloader):\n",
    "  model.train()\n",
    "  total_loss=0\n",
    "  total_labels=0\n",
    "  correct=0\n",
    "  for data_instance in trainloader:\n",
    "    inputs, labels = data_instance\n",
    "    inputs = inputs.to(device)\n",
    "    labels = labels.to(device)\n",
    "    total_labels+=len(labels)\n",
    "    optimizer.zero_grad()\n",
    "    outputs = model(inputs)\n",
    "    _, predicted=torch.max(outputs, 1)\n",
    "    correct+=(predicted==labels).sum().item()\n",
    "    loss = loss_fn(outputs, labels)\n",
    "    total_loss+=loss.item()\n",
    "    loss.backward()\n",
    "    optimizer.step()\n",
    "  print(f\"epoch: {epoch+1}: Training Loss: {total_loss/len(trainloader)}, accuracy: {correct/total_labels}\")\n",
    "\n",
    "\n",
    "def validation_step(model, valloader):\n",
    "  model.eval()\n",
    "  with torch.no_grad():\n",
    "    total_loss = 0\n",
    "    total_labels=0\n",
    "    correct=0\n",
    "    for data_instance in valloader:\n",
    "      inputs, labels=data_instance\n",
    "      inputs = inputs.to(device)\n",
    "      labels = labels.to(device)\n",
    "      total_labels+=len(labels)\n",
    "      outputs = model(inputs)\n",
    "      _, predicted=torch.max(outputs, 1)\n",
    "      correct+=(predicted==labels).sum().item()\n",
    "      loss = loss_fn(outputs, labels)\n",
    "      total_loss+=loss.item()\n",
    "    print(f\"Validation Loss: {total_loss/len(valloader)}, accuracy: {correct/total_labels}\")\n"
   ]
  },
  {
   "cell_type": "code",
   "execution_count": null,
   "metadata": {
    "colab": {
     "base_uri": "https://localhost:8080/"
    },
    "executionInfo": {
     "elapsed": 6372464,
     "status": "ok",
     "timestamp": 1756813294540,
     "user": {
      "displayName": "Uzair Baig",
      "userId": "06575571767751291123"
     },
     "user_tz": -330
    },
    "id": "O-NdzkozQo47",
    "outputId": "70cbd38f-1822-4729-a2b7-e51d239e73f4"
   },
   "outputs": [
    {
     "name": "stdout",
     "output_type": "stream",
     "text": [
      "Training Loss: 1.5801901429491172, accuracy: 0.43328\n",
      "Validation Loss: 1.1125229726171797, accuracy: 0.6078\n",
      "Training Loss: 1.0052225959278114, accuracy: 0.64544\n",
      "Validation Loss: 0.8228696943468349, accuracy: 0.7164\n",
      "Training Loss: 0.7483186772997686, accuracy: 0.7437\n",
      "Validation Loss: 0.6611772158722968, accuracy: 0.7676\n",
      "Training Loss: 0.6007817539452591, accuracy: 0.79662\n",
      "Validation Loss: 0.5515947493777913, accuracy: 0.8104\n",
      "Training Loss: 0.5059816830494202, accuracy: 0.82786\n",
      "Validation Loss: 0.4726470919551363, accuracy: 0.8424\n",
      "Training Loss: 0.43296924308752754, accuracy: 0.85282\n",
      "Validation Loss: 0.4652679091805865, accuracy: 0.848\n",
      "Training Loss: 0.3772100462594325, accuracy: 0.87088\n",
      "Validation Loss: 0.4377657538101931, accuracy: 0.8576\n",
      "Training Loss: 0.3234202259494872, accuracy: 0.88858\n",
      "Validation Loss: 0.42381074061249474, accuracy: 0.8604\n",
      "Training Loss: 0.2831043098062296, accuracy: 0.90166\n",
      "Validation Loss: 0.3731810386013833, accuracy: 0.8752\n",
      "Training Loss: 0.23996973055237886, accuracy: 0.9173\n",
      "Validation Loss: 0.38530331195160084, accuracy: 0.879\n",
      "Training Loss: 0.2068839411853657, accuracy: 0.92818\n",
      "Validation Loss: 0.36372486748702965, accuracy: 0.886\n",
      "Training Loss: 0.1767904714586467, accuracy: 0.93892\n",
      "Validation Loss: 0.3978648135426697, accuracy: 0.8792\n",
      "Training Loss: 0.14984702769135408, accuracy: 0.94802\n",
      "Validation Loss: 0.43426896570024975, accuracy: 0.8764\n",
      "Training Loss: 0.12927964829493574, accuracy: 0.95406\n",
      "Validation Loss: 0.396193930404676, accuracy: 0.8848\n",
      "Training Loss: 0.10991686686840069, accuracy: 0.9612\n",
      "Validation Loss: 0.4266568338676433, accuracy: 0.8826\n",
      "Training Loss: 0.09424174927919567, accuracy: 0.9664\n",
      "Validation Loss: 0.41737563177278847, accuracy: 0.8892\n",
      "Training Loss: 0.07995366665322551, accuracy: 0.97178\n",
      "Validation Loss: 0.42919955275074884, accuracy: 0.8892\n",
      "Training Loss: 0.06775505175538896, accuracy: 0.97682\n",
      "Validation Loss: 0.44899235933924175, accuracy: 0.8906\n",
      "Training Loss: 0.061953908073415255, accuracy: 0.97852\n",
      "Validation Loss: 0.465919215795673, accuracy: 0.889\n",
      "Training Loss: 0.0515154892141065, accuracy: 0.9819\n",
      "Validation Loss: 0.439527194485792, accuracy: 0.895\n",
      "Training Loss: 0.045122505677588375, accuracy: 0.98438\n",
      "Validation Loss: 0.4891254171064705, accuracy: 0.894\n",
      "Training Loss: 0.037933206930127195, accuracy: 0.98662\n",
      "Validation Loss: 0.45480865966172734, accuracy: 0.8906\n",
      "Training Loss: 0.031108757621368173, accuracy: 0.9895\n",
      "Validation Loss: 0.46768064954863847, accuracy: 0.8956\n",
      "Training Loss: 0.02751346682249459, accuracy: 0.99082\n",
      "Validation Loss: 0.48017963968739386, accuracy: 0.8936\n",
      "Training Loss: 0.02341880995751447, accuracy: 0.99182\n",
      "Validation Loss: 0.4815932187922062, accuracy: 0.8992\n",
      "Training Loss: 0.018875234012563653, accuracy: 0.99394\n",
      "Validation Loss: 0.48627785057019274, accuracy: 0.8966\n",
      "Training Loss: 0.01716261651148512, accuracy: 0.99444\n",
      "Validation Loss: 0.48441386693616983, accuracy: 0.9002\n",
      "Training Loss: 0.01377400709981817, accuracy: 0.99532\n",
      "Validation Loss: 0.4937855512805425, accuracy: 0.9028\n",
      "Training Loss: 0.010836908291650526, accuracy: 0.9963\n",
      "Validation Loss: 0.49221463700026796, accuracy: 0.9026\n",
      "Training Loss: 0.009547340808591867, accuracy: 0.99684\n",
      "Validation Loss: 0.4992414900920336, accuracy: 0.904\n",
      "Training Loss: 0.0060943301777093735, accuracy: 0.998\n",
      "Validation Loss: 0.514576179807365, accuracy: 0.8998\n",
      "Training Loss: 0.005698404520613203, accuracy: 0.99824\n",
      "Validation Loss: 0.506008074611461, accuracy: 0.9048\n",
      "Training Loss: 0.004783353585167888, accuracy: 0.99862\n",
      "Validation Loss: 0.4964320997990798, accuracy: 0.9098\n",
      "Training Loss: 0.004431293940317418, accuracy: 0.99872\n",
      "Validation Loss: 0.5070371919127691, accuracy: 0.9086\n",
      "Training Loss: 0.002772431197763028, accuracy: 0.99908\n",
      "Validation Loss: 0.49011152502517125, accuracy: 0.9082\n",
      "Training Loss: 0.0025828921840709, accuracy: 0.9993\n",
      "Validation Loss: 0.5018641857428856, accuracy: 0.9072\n",
      "Training Loss: 0.0018796032122543028, accuracy: 0.99948\n",
      "Validation Loss: 0.5025958080129449, accuracy: 0.9086\n",
      "Training Loss: 0.0022096548594361747, accuracy: 0.9995\n",
      "Validation Loss: 0.5036754314535576, accuracy: 0.9086\n",
      "Training Loss: 0.0016787214163277388, accuracy: 0.99958\n",
      "Validation Loss: 0.49503498059878376, accuracy: 0.9088\n",
      "Training Loss: 0.0016349921947167855, accuracy: 0.9996\n",
      "Validation Loss: 0.4991907997673769, accuracy: 0.9104\n",
      "Training Loss: 0.0018314668628001424, accuracy: 0.99944\n",
      "Validation Loss: 0.49452306091070625, accuracy: 0.9102\n",
      "Training Loss: 0.0014881445448325088, accuracy: 0.99962\n",
      "Validation Loss: 0.5020724140896586, accuracy: 0.908\n",
      "Training Loss: 0.0014077052916717221, accuracy: 0.99962\n",
      "Validation Loss: 0.4939929458941481, accuracy: 0.9106\n",
      "Training Loss: 0.0014381449844492222, accuracy: 0.9997\n",
      "Validation Loss: 0.4992582657241713, accuracy: 0.9082\n",
      "Training Loss: 0.001686312944709781, accuracy: 0.9995\n",
      "Validation Loss: 0.5188462815312728, accuracy: 0.9088\n"
     ]
    }
   ],
   "source": [
    "for epoch in range(epochs):\n",
    "  training_step(model, trainloader)\n",
    "  validation_step(model, valloader)\n",
    "  scheduler.step()"
   ]
  },
  {
   "cell_type": "code",
   "execution_count": null,
   "metadata": {
    "colab": {
     "base_uri": "https://localhost:8080/"
    },
    "executionInfo": {
     "elapsed": 1853,
     "status": "ok",
     "timestamp": 1756814374463,
     "user": {
      "displayName": "Uzair Baig",
      "userId": "06575571767751291123"
     },
     "user_tz": -330
    },
    "id": "ztg_Zs8H1QwR",
    "outputId": "c3077cd1-328b-4711-a5db-1fc49ff6e062"
   },
   "outputs": [
    {
     "name": "stderr",
     "output_type": "stream",
     "text": [
      "/tmp/ipython-input-2703609823.py:4: DeprecationWarning: You are using the legacy TorchScript-based ONNX export. Starting in PyTorch 2.9, the new torch.export-based ONNX exporter will be the default. To switch now, set dynamo=True in torch.onnx.export. This new exporter supports features like exporting LLMs with DynamicCache. We encourage you to try it and share feedback to help improve the experience. Learn more about the new export logic: https://pytorch.org/docs/stable/onnx_dynamo.html. For exporting control flow: https://pytorch.org/tutorials/beginner/onnx/export_control_flow_model_to_onnx_tutorial.html.\n",
      "  torch.onnx.export(\n"
     ]
    },
    {
     "name": "stdout",
     "output_type": "stream",
     "text": [
      "model converted to onnx\n"
     ]
    }
   ],
   "source": [
    "dummy_input = dummy_input = torch.randn(1, 3, 224, 224)\n",
    "dummy_input = dummy_input.to(device)\n",
    "model.eval()\n",
    "torch.onnx.export(\n",
    "    model,\n",
    "    dummy_input,\n",
    "    \"image_classification_model.onnx\",\n",
    "    input_names=[\"image\"],   # you name your input here\n",
    "    output_names=[\"predicted_class\"], # you name your output here\n",
    "    dynamic_axes={\n",
    "        \"image\": {0: \"batch_size\"},            # input batch dimension is dynamic\n",
    "        \"predicted_class\": {0: \"batch_size\"},  # output batch dimension is dynamic\n",
    "    },\n",
    "    opset_version=17,\n",
    "    do_constant_folding=True\n",
    ")\n",
    "\n",
    "print(\"model converted to onnx\")"
   ]
  },
  {
   "cell_type": "code",
   "execution_count": null,
   "metadata": {
    "colab": {
     "base_uri": "https://localhost:8080/",
     "height": 17
    },
    "executionInfo": {
     "elapsed": 57,
     "status": "ok",
     "timestamp": 1756814411465,
     "user": {
      "displayName": "Uzair Baig",
      "userId": "06575571767751291123"
     },
     "user_tz": -330
    },
    "id": "YeMHvdCH1BWD",
    "outputId": "42a43418-de2b-4459-9027-21e8b98441e9"
   },
   "outputs": [
    {
     "data": {
      "application/javascript": "\n    async function download(id, filename, size) {\n      if (!google.colab.kernel.accessAllowed) {\n        return;\n      }\n      const div = document.createElement('div');\n      const label = document.createElement('label');\n      label.textContent = `Downloading \"${filename}\": `;\n      div.appendChild(label);\n      const progress = document.createElement('progress');\n      progress.max = size;\n      div.appendChild(progress);\n      document.body.appendChild(div);\n\n      const buffers = [];\n      let downloaded = 0;\n\n      const channel = await google.colab.kernel.comms.open(id);\n      // Send a message to notify the kernel that we're ready.\n      channel.send({})\n\n      for await (const message of channel.messages) {\n        // Send a message to notify the kernel that we're ready.\n        channel.send({})\n        if (message.buffers) {\n          for (const buffer of message.buffers) {\n            buffers.push(buffer);\n            downloaded += buffer.byteLength;\n            progress.value = downloaded;\n          }\n        }\n      }\n      const blob = new Blob(buffers, {type: 'application/binary'});\n      const a = document.createElement('a');\n      a.href = window.URL.createObjectURL(blob);\n      a.download = filename;\n      div.appendChild(a);\n      a.click();\n      div.remove();\n    }\n  ",
      "text/plain": [
       "<IPython.core.display.Javascript object>"
      ]
     },
     "metadata": {},
     "output_type": "display_data"
    },
    {
     "data": {
      "application/javascript": "download(\"download_283bb9ae-5ee1-44cc-8977-f0b59f26b5b9\", \"image_classification_model.onnx\", 31158503)",
      "text/plain": [
       "<IPython.core.display.Javascript object>"
      ]
     },
     "metadata": {},
     "output_type": "display_data"
    }
   ],
   "source": [
    "from google.colab import files\n",
    "files.download(\"image_classification_model.onnx\")"
   ]
  },
  {
   "cell_type": "code",
   "execution_count": 8,
   "metadata": {
    "executionInfo": {
     "elapsed": 107,
     "status": "ok",
     "timestamp": 1757332184904,
     "user": {
      "displayName": "Uzair Baig",
      "userId": "06575571767751291123"
     },
     "user_tz": -330
    },
    "id": "1byR1QgBD1hD"
   },
   "outputs": [],
   "source": [
    "ort_session = ort.InferenceSession(\"image_classification_model.onnx\")"
   ]
  },
  {
   "cell_type": "code",
   "execution_count": 21,
   "metadata": {
    "executionInfo": {
     "elapsed": 88170,
     "status": "ok",
     "timestamp": 1757333530090,
     "user": {
      "displayName": "Uzair Baig",
      "userId": "06575571767751291123"
     },
     "user_tz": -330
    },
    "id": "JBPik6E_EMWg"
   },
   "outputs": [],
   "source": [
    "labels_list = []\n",
    "prediction_list = []\n",
    "for data in testloader:\n",
    "  images, labels = data\n",
    "  images = images.cpu().numpy().astype(np.float32)\n",
    "  labels = labels.cpu().numpy()\n",
    "  labels_list.extend(labels)\n",
    "  output =np.argmax(ort_session.run(None, {\"image\": images})[0], axis=1)\n",
    "  prediction_list.extend(output)\n",
    "\n",
    "labels_list = np.array(labels_list)\n",
    "prediction_list = np.array(prediction_list)"
   ]
  },
  {
   "cell_type": "code",
   "execution_count": 27,
   "metadata": {
    "colab": {
     "base_uri": "https://localhost:8080/"
    },
    "executionInfo": {
     "elapsed": 58,
     "status": "ok",
     "timestamp": 1757334152975,
     "user": {
      "displayName": "Uzair Baig",
      "userId": "06575571767751291123"
     },
     "user_tz": -330
    },
    "id": "Wj6H26upMpor",
    "outputId": "4f29372d-a994-4018-d574-b93a2724bc6c"
   },
   "outputs": [
    {
     "name": "stdout",
     "output_type": "stream",
     "text": [
      "plane: 0.9341085271317829\n",
      "car: 0.943359375\n",
      "bird: 0.9081419624217119\n",
      "cat: 0.8535469107551488\n",
      "deer: 0.920388349514563\n",
      "dog: 0.8366606170598911\n",
      "frog: 0.9261477045908184\n",
      "horse: 0.945031712473573\n",
      "ship: 0.9450980392156862\n",
      "truck: 0.9486166007905138\n"
     ]
    }
   ],
   "source": [
    "precision_per_class = precision_score(y_true = labels_list, y_pred=prediction_list, average=None)\n",
    "for index in range(len(classes)):\n",
    "  print(f\"{classes[index]}: {precision_per_class[index]}\")"
   ]
  },
  {
   "cell_type": "code",
   "execution_count": 29,
   "metadata": {
    "colab": {
     "base_uri": "https://localhost:8080/"
    },
    "executionInfo": {
     "elapsed": 62,
     "status": "ok",
     "timestamp": 1757334197683,
     "user": {
      "displayName": "Uzair Baig",
      "userId": "06575571767751291123"
     },
     "user_tz": -330
    },
    "id": "F-VxduVgR1oh",
    "outputId": "55aca02a-b6aa-4dd5-8fce-d431f81ffcf1"
   },
   "outputs": [
    {
     "name": "stdout",
     "output_type": "stream",
     "text": [
      "plane: 0.9305019305019305\n",
      "car: 0.9679358717434869\n",
      "bird: 0.8787878787878788\n",
      "cat: 0.7987152034261242\n",
      "deer: 0.915057915057915\n",
      "dog: 0.8865384615384615\n",
      "frog: 0.9527720739219713\n",
      "horse: 0.93125\n",
      "ship: 0.9469548133595285\n",
      "truck: 0.9467455621301775\n"
     ]
    }
   ],
   "source": [
    "recall_per_class = recall_score(y_true = labels_list, y_pred=prediction_list, average=None)\n",
    "for index in range(len(classes)):\n",
    "  print(f\"{classes[index]}: {recall_per_class[index]}\")"
   ]
  },
  {
   "cell_type": "code",
   "execution_count": 46,
   "metadata": {
    "colab": {
     "base_uri": "https://localhost:8080/",
     "height": 472
    },
    "executionInfo": {
     "elapsed": 242,
     "status": "ok",
     "timestamp": 1757335782935,
     "user": {
      "displayName": "Uzair Baig",
      "userId": "06575571767751291123"
     },
     "user_tz": -330
    },
    "id": "FBoQIKq-W1lD",
    "outputId": "125501c3-b05a-4924-dc4e-831071d9622a"
   },
   "outputs": [
    {
     "data": {
      "image/png": "[encoded data removed]",
      "text/plain": [
       "<Figure size 640x480 with 1 Axes>"
      ]
     },
     "metadata": {},
     "output_type": "display_data"
    }
   ],
   "source": [
    "x = np.arange(len(classes))\n",
    "\n",
    "plt.bar(x - 0.2, precision_per_class, width=0.4, label='Precision')\n",
    "plt.bar(x + 0.2, recall_per_class, width=0.4, label='Recall')\n",
    "\n",
    "plt.xticks(x, classes)\n",
    "plt.xlabel(\"Class\")\n",
    "plt.ylabel(\"Score\")\n",
    "plt.title(\"Per-Class Precision and Recall\")\n",
    "plt.legend()\n",
    "plt.show()"
   ]
  },
  {
   "cell_type": "code",
   "execution_count": 47,
   "metadata": {
    "colab": {
     "base_uri": "https://localhost:8080/",
     "height": 472
    },
    "executionInfo": {
     "elapsed": 361,
     "status": "ok",
     "timestamp": 1757336421184,
     "user": {
      "displayName": "Uzair Baig",
      "userId": "06575571767751291123"
     },
     "user_tz": -330
    },
    "id": "ERQwF_XmTn6J",
    "outputId": "09e405d9-6fe4-4a5c-cd60-e949f79734ad"
   },
   "outputs": [
    {
     "data": {
      "image/png": "[encoded data removed]",
      "text/plain": [
       "<Figure size 640x480 with 2 Axes>"
      ]
     },
     "metadata": {},
     "output_type": "display_data"
    }
   ],
   "source": [
    "conf_matrix = confusion_matrix(y_true = labels_list, y_pred=prediction_list)\n",
    "disp = ConfusionMatrixDisplay(confusion_matrix=conf_matrix, display_labels=classes)\n",
    "disp.plot()\n",
    "plt.title(\"Confusion Matrix\")\n",
    "plt.show()"
   ]
  }
 ],
 "metadata": {
  "colab": {
   "authorship_tag": "ABX9TyOWNYw7lMUHPQbb+TPPaQMf",
   "machine_shape": "hm",
   "provenance": []
  },
  "kernelspec": {
   "display_name": "Python 3",
   "name": "python3"
  },
  "language_info": {
   "name": "python"
  }
 },
 "nbformat": 4,
 "nbformat_minor": 0
}
